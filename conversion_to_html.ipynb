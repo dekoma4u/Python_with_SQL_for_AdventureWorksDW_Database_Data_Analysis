{
 "cells": [
  {
   "cell_type": "code",
   "execution_count": 1,
   "id": "86c14aa3-a4a0-47c5-8a1e-ac882f52c6f9",
   "metadata": {},
   "outputs": [
    {
     "name": "stdout",
     "output_type": "stream",
     "text": [
      "[NbConvertApp] Converting notebook AdventureWorkscodes.ipynb to html\n",
      "[NbConvertApp] Writing 343834 bytes to AdventureWorkscodes.html\n"
     ]
    }
   ],
   "source": [
    "!jupyter nbconvert --to html AdventureWorkscodes.ipynb"
   ]
  },
  {
   "cell_type": "code",
   "execution_count": null,
   "id": "147ec6d0-2908-4a3e-9d54-c08ed5ad0bb9",
   "metadata": {},
   "outputs": [],
   "source": []
  }
 ],
 "metadata": {
  "kernelspec": {
   "display_name": "Python 3 (ipykernel)",
   "language": "python",
   "name": "python3"
  },
  "language_info": {
   "codemirror_mode": {
    "name": "ipython",
    "version": 3
   },
   "file_extension": ".py",
   "mimetype": "text/x-python",
   "name": "python",
   "nbconvert_exporter": "python",
   "pygments_lexer": "ipython3",
   "version": "3.10.6"
  }
 },
 "nbformat": 4,
 "nbformat_minor": 5
}
